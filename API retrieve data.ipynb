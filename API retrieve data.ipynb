{
 "cells": [
  {
   "cell_type": "code",
   "execution_count": null,
   "metadata": {},
   "outputs": [],
   "source": []
  },
  {
   "cell_type": "code",
   "execution_count": null,
   "metadata": {},
   "outputs": [],
   "source": [
    "import requests\n",
    "import json\n",
    "from azure.storage.blob import BlobServiceClient, ContainerClient"
   ]
  },
  {
   "cell_type": "code",
   "execution_count": null,
   "metadata": {},
   "outputs": [],
   "source": [
    "# Define the base URL and endpoint path for the data\n",
    "base_url = \"https://base_url\"\n",
    "endpoint = \"endpoint\""
   ]
  },
  {
   "cell_type": "code",
   "execution_count": null,
   "metadata": {},
   "outputs": [],
   "source": [
    "# Define your authentication credentials as a dictionary\n",
    "credentials = {\n",
    "    \"tenancyName\":\"tenancyname\",\n",
    "    \"usernameOrEmailAddress\":\"username\",\n",
    "    \"password\": \"password\"\n",
    "}"
   ]
  },
  {
   "cell_type": "code",
   "execution_count": null,
   "metadata": {},
   "outputs": [],
   "source": [
    "# Initialize Azure Blob Storage client\n",
    "connection_string = \"connection_string\"\n",
    "container_name = \"container_name\" # For each data create a corresponding folder to store the JSON file\n",
    "\n",
    "blob_service_client = BlobServiceClient.from_connection_string(connection_string)\n",
    "container_client = blob_service_client.get_container_client(container_name)"
   ]
  },
  {
   "cell_type": "code",
   "execution_count": null,
   "metadata": {},
   "outputs": [],
   "source": [
    "# Function to fetch data and store it in Azure Blob Storage\n",
    "def fetch_and_store_data():\n",
    "    try:\n",
    "        # Step 1: Authenticate and obtain a token\n",
    "        auth_url = base_url + \"/api/account/authenticate\"\n",
    "        headers = {\"Content-Type\": \"application/json\"}\n",
    "        auth_response = requests.post(auth_url, headers=headers, json=credentials)\n",
    "        auth_data = auth_response.json()\n",
    "        token = auth_data[\"result\"]\n",
    "\n",
    "        # Step 2: Make a request to the API using the token\n",
    "        api_url = base_url + endpoint\n",
    "        headers = {\n",
    "            \"Accept\": \"application/json\",\n",
    "            \"Authorization\": f\"Bearer {token}\"\n",
    "        }\n",
    "        response = requests.get(api_url, headers=headers)\n",
    "        api_data = response.json()\n",
    "\n",
    "        # Step 3: Extract the data\n",
    "        if \"value\" in api_data:\n",
    "            the_data = api_data[\"value\"]\n",
    "            \n",
    "            # Convert the data list to a JSON string\n",
    "            the_data_json = json.dumps(the_data)\n",
    "\n",
    "            # Upload the JSON data to the blob\n",
    "            blob_name = \"TheData.json\"  # Specify the blob name\n",
    "            blob_client = container_client.get_blob_client(blob_name)\n",
    "            blob_client.upload_blob(the_data_json, overwrite=True)\n",
    "            \n",
    "            print(f\"Data uploaded to '{blob_name}' in '{container_name}' container.\")\n",
    "        else:\n",
    "            print(\"No 'value' field found in the API response.\")\n",
    "    except Exception as e:\n",
    "        print(f\"Error: {e}\")\n",
    "\n"
   ]
  },
  {
   "cell_type": "code",
   "execution_count": null,
   "metadata": {},
   "outputs": [],
   "source": [
    "# Fetch and store data\n",
    "fetch_and_store_data()"
   ]
  },
  {
   "cell_type": "code",
   "execution_count": null,
   "metadata": {},
   "outputs": [],
   "source": []
  }
 ],
 "metadata": {
  "kernelspec": {
   "display_name": "Python 3",
   "language": "python",
   "name": "python3"
  },
  "language_info": {
   "codemirror_mode": {
    "name": "ipython",
    "version": 3
   },
   "file_extension": ".py",
   "mimetype": "text/x-python",
   "name": "python",
   "nbconvert_exporter": "python",
   "pygments_lexer": "ipython3",
   "version": "3.8.5"
  }
 },
 "nbformat": 4,
 "nbformat_minor": 4
}
